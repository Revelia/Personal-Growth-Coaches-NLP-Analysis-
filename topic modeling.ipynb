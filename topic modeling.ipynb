{
 "cells": [
  {
   "cell_type": "code",
   "execution_count": 14,
   "id": "dbaf0158",
   "metadata": {},
   "outputs": [],
   "source": [
    "import pandas as pd\n",
    "import nltk\n",
    "import pymorphy2\n",
    "import numpy as np\n",
    "from sklearn.feature_extraction.text import TfidfVectorizer\n",
    "from gensim import corpora, models\n",
    "import re\n",
    "from nltk.corpus import stopwords\n",
    "import matplotlib.pyplot as plt\n",
    "import matplotlib.cm as cm\n",
    "\n",
    "\n",
    "\n",
    "data = pd.read_csv('data.csv', sep = \";\", lineterminator='\\n', on_bad_lines='skip', low_memory=False)  "
   ]
  },
  {
   "cell_type": "code",
   "execution_count": 15,
   "id": "97e0c2da",
   "metadata": {},
   "outputs": [
    {
     "name": "stdout",
     "output_type": "stream",
     "text": [
      "8 ноября в рамках нашего проекта выступит психолог - Майя Козыренко с темой «Личные границы» 🧘‍♀️\n",
      "Майя Козыренко - клинический психолог и гештальт-терапевт, ведущая терапевтических групп и мастер-классов 👩‍⚕️ Эксперт в области ментального здоровья и личностного роста.\n",
      "«ДНК моей философии: Баланс во всём: в карьере/финансах, в отношениях/семье, в труде и отдыхе.»\n",
      "🤔 В рамках тренинга \"Личные границы\" мы узнаем:\n",
      "- что такое личные границы?\n",
      "- какие существуют виды личных границ?\n",
      "- что такое слияние и чем оно опасно?\n",
      "- \"Я - сообщение\" vs \"Вы - сообщение\": в чём разница и как не задеть чувства собеседника?\n",
      "- а если честно, то просто говорить про границы скучно, поэтому мы будем исследовать их на практике 😉\n",
      "18:00\n",
      "ЮРИУ РАНХиГС\n",
      "107 аудитория\n",
      "Ставь + в комменты, если планируешь прийти 🙌\n",
      " ноября в рамках нашего проекта выступит психолог  Майя Козыренко с темой Личные границы  Майя Козыренко  клинический психолог и гештальттерапевт ведущая терапевтических групп и мастерклассов  Эксперт в области ментального здоровья и личностного роста  ДНК моей философии Баланс во всм в карьерефинансах в отношенияхсемье в труде и отдыхе   В рамках тренинга Личные границы мы узнаем  что такое личные границы  какие существуют виды личных границ  что такое слияние и чем оно опасно  Я  сообщение  Вы  сообщение в чм разница и как не задеть чувства собеседника  а если честно то просто говорить про границы скучно поэтому мы будем исследовать их на практике   ЮРИУ РАНХиГС  аудитория Ставь  в комменты если планируешь прийти \n"
     ]
    }
   ],
   "source": [
    "SAMPLE = 1\n",
    "TEST_PIPELINE = True\n",
    "print(data[\"Текст\"][SAMPLE])\n",
    "\n",
    "if TEST_PIPELINE:\n",
    "    texts_df = data[\"Текст\"].head(5000).fillna(\"\").astype(\"string\").replace(to_replace='\\n', value=' ',regex=True).replace(to_replace='\\.', value=' ',regex=True).apply(lambda x: re.sub('[^# а-яА-Я]', '', x))\n",
    "else:\n",
    "    texts_df = data[\"Текст\"].fillna(\"\").astype(\"string\").replace(to_replace='\\n', value=' ',regex=True).replace(to_replace='\\.', value=' ',regex=True).apply(lambda x: re.sub('[^# а-яА-Я]', '', x))\n",
    "\n",
    "print(texts_df[SAMPLE])"
   ]
  },
  {
   "cell_type": "code",
   "execution_count": 16,
   "id": "de1c0c7f",
   "metadata": {},
   "outputs": [
    {
     "name": "stdout",
     "output_type": "stream",
     "text": [
      "ноябрь в рамка наш проект выступить психолог майя козыренко с тема личный граница майя козыренко клинический психолог и гештальттерапевт ведущий терапевтический группа и мастеркласс эксперт в область ментальный здоровье и личностный рост днк мой философия баланс в всм в карьерефинанс в отношенияхсемья в труд и отдых в рамка тренинг личный граница мы узнать что такой личный граница какой существовать вид личный граница что такой слияние и чем оно опасно я сообщение вы сообщение в чм разница и как не задеть чувство собеседник а если честно то просто говорить про граница скучно поэтому мы быть исследовать они на практика юриу ранхигс аудитория ставить в коммент если планировать прийти\n"
     ]
    }
   ],
   "source": [
    "morph = pymorphy2.MorphAnalyzer()\n",
    "#Возможно, морфологичекий анализатор pymorphy2 слишком медленный\n",
    "stemmer = nltk.stem.snowball.RussianStemmer()\n",
    "\n",
    "def stem_words(text):\n",
    "    words = nltk.word_tokenize(text)\n",
    "    stemmed_words = [stemmer.stem(word) for word in words]\n",
    "    return ' '.join(stemmed_words)\n",
    "\n",
    "def lem_words(text):\n",
    "    words = nltk.word_tokenize(text)\n",
    "    lemmed_words = [morph.parse(word)[0].normal_form for word in words]\n",
    "    return ' '.join(lemmed_words)\n",
    "\n",
    "texts_df_lem = texts_df.apply(lem_words)\n",
    "print(texts_df_lem[SAMPLE])"
   ]
  },
  {
   "cell_type": "code",
   "execution_count": 17,
   "id": "28f6d259",
   "metadata": {},
   "outputs": [
    {
     "name": "stdout",
     "output_type": "stream",
     "text": [
      "final dict_size = 2538\n"
     ]
    }
   ],
   "source": [
    "stopwords = set(stopwords.words('russian'))\n",
    "\n",
    "texts = texts_df_lem.to_list()\n",
    "tf_idf = TfidfVectorizer(stop_words=stopwords,smooth_idf=False)\n",
    "\n",
    "tf_idf.fit(texts)\n",
    "idfs = tf_idf.idf_\n",
    "lower_thresh = 3\n",
    "upper_thresh = 6\n",
    "not_often = idfs > lower_thresh\n",
    "not_rare = idfs < upper_thresh\n",
    "\n",
    "mask = not_often * not_rare\n",
    "\n",
    "good_words = np.array(tf_idf.get_feature_names_out())[mask]\n",
    "\n",
    "print(f\"final dict_size = {good_words.size}\")"
   ]
  },
  {
   "cell_type": "code",
   "execution_count": 18,
   "id": "7f36f930",
   "metadata": {},
   "outputs": [
    {
     "name": "stdout",
     "output_type": "stream",
     "text": [
      "рамка проект выступить психолог тема граница клинический психолог ведущий терапевтический группа мастеркласс эксперт область ментальный здоровье философия баланс всм труд отдых рамка граница узнать граница существовать вид граница оно сообщение сообщение чм разница чувство собеседник честно говорить граница поэтому исследовать практика аудитория ставить планировать прийти\n"
     ]
    }
   ],
   "source": [
    "def delete_bad_words(text, good_words):\n",
    "    unfiltred_words = nltk.word_tokenize(text)\n",
    "    words = list(filter(lambda x: x in good_words, unfiltred_words))\n",
    "    return ' '.join(words)\n",
    "\n",
    "texts_clean = texts_df_lem.apply(lambda x :delete_bad_words(x,good_words)).to_list()\n",
    "with open(r'cigane_big.txt', 'w') as fp:\n",
    "    fp.write('\\n'.join(texts_clean))\n",
    "    \n",
    "print(texts_clean[SAMPLE])"
   ]
  },
  {
   "cell_type": "code",
   "execution_count": 19,
   "id": "31b781c1",
   "metadata": {},
   "outputs": [],
   "source": [
    "texts_token = [[word for word in text.lower().split()] for text in texts_clean]\n",
    "dictionary = corpora.Dictionary(texts_token)\n",
    "corpus = [dictionary.doc2bow(text) for text in texts_token]\n",
    "lda_model = models.LdaModel(corpus=corpus, id2word=dictionary, num_topics=10, passes=10)\n"
   ]
  },
  {
   "cell_type": "code",
   "execution_count": 20,
   "id": "30ec7650",
   "metadata": {},
   "outputs": [
    {
     "name": "stdout",
     "output_type": "stream",
     "text": [
      "(0, '0.057*\"книга\" + 0.020*\"автор\" + 0.013*\"фильм\" + 0.010*\"здоровье\" + 0.010*\"читать\" + 0.007*\"здоровый\" + 0.007*\"тело\" + 0.006*\"четыре\" + 0.006*\"ценность\" + 0.006*\"физический\"')\n",
      "(1, '0.010*\"психолог\" + 0.008*\"игра\" + 0.007*\"проблема\" + 0.007*\"энергия\" + 0.007*\"карта\" + 0.007*\"состояние\" + 0.006*\"психологический\" + 0.006*\"практика\" + 0.006*\"ситуация\" + 0.006*\"консультация\"')\n",
      "(2, '0.016*\"программа\" + 0.015*\"россия\" + 0.013*\"профессиональный\" + 0.011*\"проект\" + 0.008*\"участие\" + 0.008*\"область\" + 0.008*\"техника\" + 0.008*\"практика\" + 0.007*\"также\" + 0.007*\"конкурс\"')\n",
      "(3, '0.016*\"школа\" + 0.013*\"встреча\" + 0.009*\"участник\" + 0.009*\"команда\" + 0.009*\"тренер\" + 0.008*\"мероприятие\" + 0.007*\"октябрь\" + 0.007*\"клуб\" + 0.006*\"проект\" + 0.006*\"ребята\"')\n",
      "(4, '0.015*\"образование\" + 0.015*\"педагог\" + 0.010*\"душа\" + 0.009*\"красота\" + 0.009*\"творчество\" + 0.009*\"рождение\" + 0.009*\"спорт\" + 0.008*\"канал\" + 0.008*\"клуб\" + 0.008*\"здоровье\"')\n",
      "(5, '0.031*\"обида\" + 0.016*\"цитата\" + 0.012*\"энергия\" + 0.012*\"обижаться\" + 0.011*\"сегодня\" + 0.011*\"марафон\" + 0.011*\"ссылка\" + 0.010*\"осознанность\" + 0.009*\"понимать\" + 0.009*\"переход\"')\n",
      "(6, '0.123*\"мотивация\" + 0.097*\"пикапмастер\" + 0.094*\"коучий\" + 0.060*\"страсть\" + 0.057*\"знакомство\" + 0.056*\"свидание\" + 0.056*\"психологияотношение\" + 0.054*\"соблазнение\" + 0.051*\"сексология\" + 0.049*\"отношенияполоть\"')\n",
      "(7, '0.006*\"вс\" + 0.006*\"говорить\" + 0.005*\"жить\" + 0.004*\"мысль\" + 0.004*\"сила\" + 0.004*\"должный\" + 0.004*\"именно\" + 0.004*\"чтоть\" + 0.004*\"идти\" + 0.004*\"ещё\"')\n",
      "(8, '0.015*\"компания\" + 0.015*\"деньга\" + 0.014*\"доход\" + 0.011*\"команда\" + 0.009*\"финансовый\" + 0.008*\"продажа\" + 0.008*\"клиент\" + 0.008*\"месяц\" + 0.008*\"писать\" + 0.007*\"марафон\"')\n",
      "(9, '0.046*\"фестиваль\" + 0.023*\"встреча\" + 0.020*\"волжский\" + 0.015*\"участник\" + 0.014*\"россия\" + 0.012*\"юный\" + 0.012*\"ребята\" + 0.011*\"журналист\" + 0.010*\"компания\" + 0.009*\"проект\"')\n"
     ]
    }
   ],
   "source": [
    "topics = lda_model.show_topics(num_topics=-1, num_words=10)\n",
    "for topic in topics:\n",
    "    print(topic)\n",
    "    "
   ]
  },
  {
   "cell_type": "code",
   "execution_count": 21,
   "id": "5350f675",
   "metadata": {},
   "outputs": [],
   "source": [
    "lda_model.save(\"lda_model1\")"
   ]
  },
  {
   "cell_type": "code",
   "execution_count": 22,
   "id": "42fcff11",
   "metadata": {},
   "outputs": [],
   "source": [
    "document_topic = [lda_model.get_document_topics(item) for item in corpus]"
   ]
  },
  {
   "cell_type": "code",
   "execution_count": 23,
   "id": "69f8b039",
   "metadata": {},
   "outputs": [
    {
     "name": "stdout",
     "output_type": "stream",
     "text": [
      "[(1, 0.13593858), (7, 0.84666055)]\n",
      "Продолжаем рубрику \"Вы (не) спрашивали, мы отвечаем\".\n",
      "Вопрос. А если хочется лежать на диване с гаджетом, телевизором и вкусняшками? Или круглосуточно играть в настолки? Или чередовать эти два занятия? Это же можно делать бесконечно))\n",
      "Ответ. Это желание можно рассматривать как компульсию (неконтролируемое стремление делать что-то) и как вариант рекреации (восстановления).\n",
      "В первом случае мы, как правило, имеем дело с замещением. Хочется одно, но оно недоступно, поэтому делаем другое. Это другое - и есть компульсия. Серфинг соцсетей, однотипные игры, алкоголизация - все это варианты компульсивных действий. Прислушиваться к себе, в частности, - и есть способ найти то, что хочется на самом деле и заняться этим. Это полезнее.\n",
      "Однако все перечисленное может быть и вариантом рекреации. Не самым лучшим, конечно, но человеку не обязательно исправлять в своей жизни все подряд. Поэтому, если рекреация не вредит основной жизнедеятельности, то и ничего страшного. Можно развивать себя в том, чтобы находить более продуктивные варианты рекреации, но это личностный рост, который предполагает, что у вас есть на него силы и желание.\n"
     ]
    },
    {
     "data": {
      "text/plain": [
       "7"
      ]
     },
     "execution_count": 23,
     "metadata": {},
     "output_type": "execute_result"
    }
   ],
   "source": [
    "from operator import itemgetter\n",
    "\n",
    "print(document_topic[20])\n",
    "print(data['Текст'][20])\n",
    "max_index = max(document_topic[20], key = itemgetter(1))[0]\n",
    "max_index"
   ]
  },
  {
   "cell_type": "code",
   "execution_count": 24,
   "id": "43cdba2f",
   "metadata": {},
   "outputs": [
    {
     "name": "stdout",
     "output_type": "stream",
     "text": [
      "Iteration 4999\r"
     ]
    },
    {
     "data": {
      "text/plain": [
       "<BarContainer object of 10 artists>"
      ]
     },
     "execution_count": 24,
     "metadata": {},
     "output_type": "execute_result"
    },
    {
     "data": {
      "image/png": "[encoded data removed]",
      "text/plain": [
       "<Figure size 432x288 with 1 Axes>"
      ]
     },
     "metadata": {
      "needs_background": "light"
     },
     "output_type": "display_data"
    }
   ],
   "source": [
    "dist = np.zeros(10)\n",
    "iterat = 0\n",
    "for item in corpus:\n",
    "    topics = lda_model.get_document_topics(item) \n",
    "    max_index = max(topics, key = itemgetter(1))[0]\n",
    "    dist[max_index] = dist[max_index] + 1\n",
    "    print(f\"Iteration {iterat}\", end = \"\\r\")\n",
    "    iterat = iterat + 1\n",
    "\n",
    "dist\n",
    "x = range(10)\n",
    "plt.bar(x,dist)"
   ]
  },
  {
   "cell_type": "code",
   "execution_count": 25,
   "id": "acf93fd5",
   "metadata": {},
   "outputs": [
    {
     "name": "stdout",
     "output_type": "stream",
     "text": [
      "Вот и второй месяц нового учебного года позади, а это значит, что​\n",
      "с 1 ноября 2022г. стартует новый муниципальный ДЕТСКИЙ конкурс в системе \"12 месяцев - 12 конкурсов\" для детей старших и подготовительных групп - конкурс \"Слово на ладошке\". ?\n",
      "❗️Цель конкурса: выявление лучших чтецов литературных произведений (стихов или прозы) среди детей старшего дошкольного возраста, поддержка талантливых и творческих детей, содействие их личностному росту.​\n",
      "Тема конкурсных испытаний \" Моя Россия\".​ Для исполнения рекомендуются произведения патриотической направленности:​ о своей​ Родине, о природе родного края, о дружбе народов России.\n",
      "Конкурс будет проходить в Детском саду с 21 по 25 ноября в двух​ корпусах.\n",
      "​ 🍁участвуйте вместе с нами!\n",
      "🍁творите!\n",
      "🍁получайте призы!\n",
      "❗️Желаем всем творческих успехов!​\n"
     ]
    }
   ],
   "source": [
    "def get_rand_sample(topic_number, model, curpus, data):\n",
    "    topic = -1\n",
    "    while(topic != topic_number):\n",
    "        rand = np.random.randint(0,iterat)\n",
    "        print(f\"init rand doc {rand}\", end = \"\\r\")\n",
    "        topics = model.get_document_topics(corpus[rand]) \n",
    "        topic = max(topics, key = itemgetter(1))[0]\n",
    "    print(data['Текст'][rand])"
   ]
  },
  {
   "cell_type": "code",
   "execution_count": 31,
   "id": "acc9cb96",
   "metadata": {},
   "outputs": [
    {
     "name": "stdout",
     "output_type": "stream",
     "text": [
      "init rand doc 4966\r",
      "Исполним твои мечты!?\n",
      "Я - Ольга Будянская - практикующий рунолог, астролог,маг, таролог, ведьма, тренер по личностному росту и ораторскому мастерству. Предлагаю ВАМ СВОИ УСЛУГИ!\n",
      "🌟СО МНОЙ ИСПОЛНЯЮТСЯ МЕЧТЫ 🌟\n",
      "Астрологический прогноз\n",
      "Рунический прогноз\n",
      "Чистка чакр, биополя\n",
      "Возврат любимого\\любимой\n",
      "Талисманы успеха в бизнесе\n",
      "Талисманы для карьеры\n",
      "Талисманы Защиты и Энергии\n",
      "Талисманы для любви\n",
      "Личные консультации.\n",
      "Онлайн Консультации.\n",
      "Обучение Рунической магии.\n",
      "ПИШИТЕ🔽\n",
      "Пишите прямо сейчас 🔽\n",
      "INSTAGRAMM: @olga_budyanskaya\n",
      "WhatsApp /Viber: +7(965)554-39-15\n",
      "@olga_budyanskaya\n",
      "@olga_budyanskaya\n",
      "@olga_budyanskaya\n",
      "olga_budyanskaya\n"
     ]
    }
   ],
   "source": [
    "get_rand_sample(5, lda_model, corpus, data)"
   ]
  },
  {
   "cell_type": "code",
   "execution_count": null,
   "id": "d39323e1",
   "metadata": {},
   "outputs": [],
   "source": []
  }
 ],
 "metadata": {
  "kernelspec": {
   "display_name": "Python 3 (ipykernel)",
   "language": "python",
   "name": "python3"
  },
  "language_info": {
   "codemirror_mode": {
    "name": "ipython",
    "version": 3
   },
   "file_extension": ".py",
   "mimetype": "text/x-python",
   "name": "python",
   "nbconvert_exporter": "python",
   "pygments_lexer": "ipython3",
   "version": "3.9.12"
  }
 },
 "nbformat": 4,
 "nbformat_minor": 5
}
